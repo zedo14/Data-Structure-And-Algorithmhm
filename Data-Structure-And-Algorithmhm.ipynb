{
 "cells": [
  {
   "cell_type": "markdown",
   "id": "cd65f34e",
   "metadata": {},
   "source": [
    "**Step 1: Create the Students Data (Code Cell)**"
   ]
  },
  {
   "cell_type": "code",
   "execution_count": null,
   "id": "4eca1db2",
   "metadata": {},
   "outputs": [],
   "source": [
    "# List of student dictionaries\n",
    "students = [\n",
    "    {'id': 'DBU1500010', 'name': 'Dawit',      'dept': 'CS', 'cgpa': 3.34},\n",
    "    {'id': 'DBU1500003', 'name': 'Ebrahem',    'dept': 'CS', 'cgpa': 3.12},\n",
    "    {'id': 'DBU1500007', 'name': 'Elisabet',   'dept': 'CS', 'cgpa': 3.74},\n",
    "    {'id': 'DBU1500001', 'name': 'Helina',     'dept': 'CS', 'cgpa': 3.10},\n",
    "    {'id': 'DBU1500005', 'name': 'Yridanos',   'dept': 'CS', 'cgpa': 3.40},\n",
    "    {'id': 'DBU1500012', 'name': 'Eyob',       'dept': 'CS', 'cgpa': 2.89},\n",
    "    {'id': 'DBU1500009', 'name': 'Sintayew',   'dept': 'CS', 'cgpa': 3.95},\n",
    "    {'id': 'DBU1500011', 'name': 'Addis',      'dept': 'CS', 'cgpa': 2.71},\n",
    "    {'id': 'DBU1500002', 'name': 'Lilise',     'dept': 'CS', 'cgpa': 4.00},\n",
    "    {'id': 'DBU1500008', 'name': 'Nahom',      'dept': 'CS', 'cgpa': 2.65},\n",
    "]\n"
   ]
  },
  {
   "cell_type": "markdown",
   "id": "33c916d3",
   "metadata": {},
   "source": [
    "**Step 2: Bubble Sort by ID (Code Cell)**"
   ]
  },
  {
   "cell_type": "code",
   "execution_count": null,
   "id": "a8d14425",
   "metadata": {},
   "outputs": [],
   "source": [
    "def bubble_sort_by_id(student_list):\n",
    "    n = len(student_list)\n",
    "    for i in range(n):\n",
    "        for j in range(0, n-i-1):\n",
    "            if student_list[j]['id'] > student_list[j+1]['id']:\n",
    "                student_list[j], student_list[j+1] = student_list[j+1], student_list[j]\n",
    "    return student_list\n",
    "\n",
    "sorted_by_id = bubble_sort_by_id(students.copy())\n",
    "print(\"Sorted by ID (Bubble Sort):\")\n",
    "for s in sorted_by_id:\n",
    "    print(s)\n"
   ]
  },
  {
   "cell_type": "markdown",
   "id": "48f4f174",
   "metadata": {},
   "source": [
    "**Step 3: Insertion Sort by Name (Code Cell)**"
   ]
  },
  {
   "cell_type": "code",
   "execution_count": null,
   "id": "ff49a4af",
   "metadata": {},
   "outputs": [],
   "source": []
  },
  {
   "cell_type": "markdown",
   "id": "d5b191f1",
   "metadata": {},
   "source": [
    "**Step 4: Selection Sort by CGPA Descending (Code Cell)**"
   ]
  },
  {
   "cell_type": "code",
   "execution_count": null,
   "id": "a8df09ed",
   "metadata": {},
   "outputs": [],
   "source": [
    "def selection_sort_by_cgpa_desc(student_list):\n",
    "    n = len(student_list)\n",
    "    for i in range(n):\n",
    "        max_idx = i\n",
    "        for j in range(i+1, n):\n",
    "            if student_list[j]['cgpa'] > student_list[max_idx]['cgpa']:\n",
    "                max_idx = j\n",
    "        student_list[i], student_list[max_idx] = student_list[max_idx], student_list[i]\n",
    "    return student_list\n",
    "\n",
    "sorted_by_cgpa = selection_sort_by_cgpa_desc(students.copy())\n",
    "print(\"Sorted by CGPA (Selection Sort):\")\n",
    "for s in sorted_by_cgpa:\n",
    "    print(s)\n"
   ]
  },
  {
   "cell_type": "markdown",
   "id": "d39f8884",
   "metadata": {},
   "source": [
    "**Analysis of Sorting Algorithms**"
   ]
  },
  {
   "cell_type": "markdown",
   "id": "f3c47ed9",
   "metadata": {},
   "source": [
    "Name: [Zewdu Zemedu]\n",
    "ID: [1601982]\n",
    "Department: [Computer Science]\n",
    "GitHub: [https://github.com/zedo14]\n",
    "3. Performance Analysis and Discussion\n",
    "3.1 Performance Comparison\n",
    "All three sorting algorithms (Bubble Sort, Insertion Sort, and Selection Sort) have the same average and worst-case time complexity of O(n²), where n is the number of elements in the list. However, their actual performance can vary based on the input data:\n",
    "\n",
    "Bubble Sort:\n",
    "\n",
    "Best case (already sorted): O(n)\n",
    "\n",
    "Worst case (reverse sorted): O(n²)\n",
    "\n",
    "Performance is generally the worst among the three for random data due to many swaps\n",
    "\n",
    "Insertion Sort:\n",
    "\n",
    "Best case (already sorted): O(n)\n",
    "\n",
    "Worst case (reverse sorted): O(n²)\n",
    "\n",
    "Performs well when the list is nearly sorted or small in size\n",
    "\n",
    "Generally faster than Bubble Sort in practice\n",
    "\n",
    "Selection Sort:\n",
    "\n",
    "Always performs O(n²) comparisons regardless of input order\n",
    "\n",
    "Makes only O(n) swaps, which can be advantageous if writes are expensive\n",
    "\n",
    "Performance is generally better than Bubble Sort but worse than Insertion Sort for small or nearly sorted lists\n",
    "\n",
    "3.2 Advantages and Disadvantages for Sorting Dictionary Data\n",
    "Bubble Sort:\n",
    "\n",
    "Advantages:\n",
    "\n",
    "Simple to understand and implement\n",
    "\n",
    "Performs well when the list is already mostly sorted\n",
    "\n",
    "Stable sort (maintains relative order of equal elements)\n",
    "\n",
    "Disadvantages:\n",
    "\n",
    "Very inefficient for large datasets\n",
    "\n",
    "Many unnecessary swaps even in average cases\n",
    "\n",
    "Insertion Sort:\n",
    "\n",
    "Advantages:\n",
    "\n",
    "Efficient for small datasets or nearly sorted data\n",
    "\n",
    "Stable sort\n",
    "\n",
    "Simple implementation\n",
    "\n",
    "Low overhead\n",
    "\n",
    "Online algorithm (can sort as it receives data)\n",
    "\n",
    "Disadvantages:\n",
    "\n",
    "Still O(n²) for random or reverse-sorted data\n",
    "\n",
    "Requires shifting elements which can be expensive\n",
    "\n",
    "Selection Sort:\n",
    "\n",
    "Advantages:\n",
    "\n",
    "Simple to implement\n",
    "\n",
    "Performs a minimal number of swaps (O(n) swaps)\n",
    "\n",
    "In-place sorting (requires only O(1) additional space)\n",
    "\n",
    "Disadvantages:\n",
    "\n",
    "Always performs O(n²) comparisons\n",
    "\n",
    "Not stable (may change relative order of equal elements)\n",
    "\n",
    "Poor performance on large lists\n",
    "\n",
    "3.3 Recommendations for Dictionary Data\n",
    "For sorting dictionaries (like our student records), the choice depends on the specific scenario:\n",
    "\n",
    "If the data is small or nearly sorted, Insertion Sort is often the best choice among these three.\n",
    "\n",
    "If you need minimal writes (e.g., sorting on flash memory), Selection Sort might be preferable.\n",
    "\n",
    "Bubble Sort is generally not recommended except for educational purposes or very small datasets.\n",
    "\n",
    "For larger datasets, more efficient algorithms like Merge Sort, Quick Sort, or built-in Python sorting (which uses Timsort) would be more appropriate.\n",
    "\n",
    "\n",
    "\n"
   ]
  }
 ],
 "metadata": {
  "kernelspec": {
   "display_name": "Python 3",
   "language": "python",
   "name": "python3"
  },
  "language_info": {
   "codemirror_mode": {
    "name": "ipython",
    "version": 3
   },
   "file_extension": ".py",
   "mimetype": "text/x-python",
   "name": "python",
   "nbconvert_exporter": "python",
   "pygments_lexer": "ipython3",
   "version": "3.13.0"
  }
 },
 "nbformat": 4,
 "nbformat_minor": 5
}
