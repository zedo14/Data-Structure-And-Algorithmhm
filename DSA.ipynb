{
 "cells": [
  {
   "cell_type": "code",
   "execution_count": 26,
   "id": "9e7f791e",
   "metadata": {},
   "outputs": [],
   "source": [
    "class Node:\n",
    "    def __init__(self,data):\n",
    "        self.data = data\n",
    "        self.address= None"
   ]
  },
  {
   "cell_type": "code",
   "execution_count": 30,
   "id": "49b50168",
   "metadata": {},
   "outputs": [
    {
     "name": "stdout",
     "output_type": "stream",
     "text": [
      "<__main__.Node object at 0x0000014E219EF890>\n"
     ]
    }
   ],
   "source": [
    "node1.address = node2\n",
    "print(node1.address) # This will print the data of node2\n",
    "    "
   ]
  },
  {
   "cell_type": "code",
   "execution_count": 27,
   "id": "bec556c6",
   "metadata": {},
   "outputs": [],
   "source": [
    "node1=Node(10)\n",
    "node2=Node(50)\n"
   ]
  },
  {
   "cell_type": "code",
   "execution_count": 28,
   "id": "0df4eca5",
   "metadata": {},
   "outputs": [
    {
     "name": "stdout",
     "output_type": "stream",
     "text": [
      "10\n",
      "None\n",
      "50\n",
      "None\n"
     ]
    }
   ],
   "source": [
    "print(node1.data)\n",
    "print(node1.address)\n",
    "print(node2.data)\n",
    "print(node2.address)\n"
   ]
  },
  {
   "cell_type": "code",
   "execution_count": null,
   "id": "17d38e7f",
   "metadata": {},
   "outputs": [],
   "source": [
    "class person:\n",
    "    color = \"red\"\n",
    "    def __init__(self, name,):\n",
    "        self.name = name\n",
    "\n",
    "    def display(self):\n",
    "        return f\"your name is {self.name}\"\n",
    "        @classmethod\n",
    "        def class_display(cls):\n",
    "         return f\"color is{cls.color}\"\n",
    "person1=person(\"DS\")\n",
    "person2=person(\"CS\")\n",
    "print(f\"isinstance1:{person1.display()}\")\n",
    "print(f\"isinstance2:{person2.display()}\")\n",
    "print(person.class__display)\n",
    "\n",
    "    "
   ]
  },
  {
   "cell_type": "code",
   "execution_count": null,
   "id": "32b72919",
   "metadata": {},
   "outputs": [],
   "source": [
    "class Person:\n",
    "    color = \"red\"\n",
    "\n",
    "    def __init__(self, name):\n",
    "        self.name = name\n",
    "\n",
    "    def display(self):\n",
    "        return f\"Your name is {self.name}\"\n",
    "\n",
    "    @classmethod\n",
    "    def class_display(cls):\n",
    "        return f\"Color is {cls.color}\"\n",
    "\n",
    "# Creating instances of the Person class\n",
    "person1 = Person(\"DS\")\n",
    "person2 = Person(\"CS\")\n",
    "\n",
    "# Displaying information\n",
    "print(f\"Instance 1: {person1.display()}\")\n",
    "print(f\"Instance 2: {person2.display()}\")\n",
    "print(Person.class_display())"
   ]
  }
 ],
 "metadata": {
  "kernelspec": {
   "display_name": "Python 3",
   "language": "python",
   "name": "python3"
  },
  "language_info": {
   "codemirror_mode": {
    "name": "ipython",
    "version": 3
   },
   "file_extension": ".py",
   "mimetype": "text/x-python",
   "name": "python",
   "nbconvert_exporter": "python",
   "pygments_lexer": "ipython3",
   "version": "3.13.0"
  }
 },
 "nbformat": 4,
 "nbformat_minor": 5
}
